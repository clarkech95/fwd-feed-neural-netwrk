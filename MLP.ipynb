{
 "cells": [
  {
   "cell_type": "markdown",
   "metadata": {},
   "source": [
    "## Student Name: Christian Clarke"
   ]
  },
  {
   "cell_type": "code",
   "execution_count": 72,
   "metadata": {},
   "outputs": [],
   "source": [
    "#import any required libraries\n",
    "\n",
    "import pandas as pd\n",
    "import numpy as np\n",
    "import matplotlib.pyplot as plt\n",
    "import seaborn as sns\n",
    "from sklearn.pipeline import Pipeline\n",
    "from sklearn.impute import SimpleImputer\n",
    "from sklearn.preprocessing import StandardScaler, OneHotEncoder, MinMaxScaler\n",
    "from sklearn.compose import ColumnTransformer\n",
    "from sklearn.feature_selection import RFE, SelectKBest, f_regression\n",
    "import keras\n",
    "from keras.models import Sequential\n",
    "from keras.layers import Dense"
   ]
  },
  {
   "cell_type": "markdown",
   "metadata": {},
   "source": [
    "### Step 1 – Data Acquisition\n",
    "Load the training data 'house_prices_train.csv' into a dataframe. Explore the data to get a better understanding of its structure and any data preparation steps that you need to perform."
   ]
  },
  {
   "cell_type": "code",
   "execution_count": 73,
   "metadata": {},
   "outputs": [
    {
     "name": "stdout",
     "output_type": "stream",
     "text": [
      "There are 1460 rows and 81 columns.\n"
     ]
    }
   ],
   "source": [
    "#Load the data and view the dimensions\n",
    "#TODO: provide the url for the training data\n",
    "url      = 'https://raw.githubusercontent.com/davashu/module-08-feed-forward-neural-networks-clarkech95/master/house_prices_train.csv?token=APVD6MIBYXPKR2P64IAXFPC7CNWEA' \n",
    "data     = pd.read_csv(url)\n",
    "data_dim = data.shape\n",
    "\n",
    "print ('There are {} rows and {} columns.'.format(data_dim[0], data_dim[1]))"
   ]
  },
  {
   "cell_type": "markdown",
   "metadata": {},
   "source": [
    "Lets view samples of the data"
   ]
  },
  {
   "cell_type": "code",
   "execution_count": 74,
   "metadata": {},
   "outputs": [
    {
     "data": {
      "text/html": [
       "<div>\n",
       "<style scoped>\n",
       "    .dataframe tbody tr th:only-of-type {\n",
       "        vertical-align: middle;\n",
       "    }\n",
       "\n",
       "    .dataframe tbody tr th {\n",
       "        vertical-align: top;\n",
       "    }\n",
       "\n",
       "    .dataframe thead th {\n",
       "        text-align: right;\n",
       "    }\n",
       "</style>\n",
       "<table border=\"1\" class=\"dataframe\">\n",
       "  <thead>\n",
       "    <tr style=\"text-align: right;\">\n",
       "      <th></th>\n",
       "      <th>Id</th>\n",
       "      <th>MSSubClass</th>\n",
       "      <th>MSZoning</th>\n",
       "      <th>LotFrontage</th>\n",
       "      <th>LotArea</th>\n",
       "      <th>Street</th>\n",
       "      <th>Alley</th>\n",
       "      <th>LotShape</th>\n",
       "      <th>LandContour</th>\n",
       "      <th>Utilities</th>\n",
       "      <th>...</th>\n",
       "      <th>PoolArea</th>\n",
       "      <th>PoolQC</th>\n",
       "      <th>Fence</th>\n",
       "      <th>MiscFeature</th>\n",
       "      <th>MiscVal</th>\n",
       "      <th>MoSold</th>\n",
       "      <th>YrSold</th>\n",
       "      <th>SaleType</th>\n",
       "      <th>SaleCondition</th>\n",
       "      <th>SalePrice</th>\n",
       "    </tr>\n",
       "  </thead>\n",
       "  <tbody>\n",
       "    <tr>\n",
       "      <th>0</th>\n",
       "      <td>1</td>\n",
       "      <td>60</td>\n",
       "      <td>RL</td>\n",
       "      <td>65.0</td>\n",
       "      <td>8450</td>\n",
       "      <td>Pave</td>\n",
       "      <td>NaN</td>\n",
       "      <td>Reg</td>\n",
       "      <td>Lvl</td>\n",
       "      <td>AllPub</td>\n",
       "      <td>...</td>\n",
       "      <td>0</td>\n",
       "      <td>NaN</td>\n",
       "      <td>NaN</td>\n",
       "      <td>NaN</td>\n",
       "      <td>0</td>\n",
       "      <td>2</td>\n",
       "      <td>2008</td>\n",
       "      <td>WD</td>\n",
       "      <td>Normal</td>\n",
       "      <td>208500</td>\n",
       "    </tr>\n",
       "    <tr>\n",
       "      <th>1</th>\n",
       "      <td>2</td>\n",
       "      <td>20</td>\n",
       "      <td>RL</td>\n",
       "      <td>80.0</td>\n",
       "      <td>9600</td>\n",
       "      <td>Pave</td>\n",
       "      <td>NaN</td>\n",
       "      <td>Reg</td>\n",
       "      <td>Lvl</td>\n",
       "      <td>AllPub</td>\n",
       "      <td>...</td>\n",
       "      <td>0</td>\n",
       "      <td>NaN</td>\n",
       "      <td>NaN</td>\n",
       "      <td>NaN</td>\n",
       "      <td>0</td>\n",
       "      <td>5</td>\n",
       "      <td>2007</td>\n",
       "      <td>WD</td>\n",
       "      <td>Normal</td>\n",
       "      <td>181500</td>\n",
       "    </tr>\n",
       "    <tr>\n",
       "      <th>2</th>\n",
       "      <td>3</td>\n",
       "      <td>60</td>\n",
       "      <td>RL</td>\n",
       "      <td>68.0</td>\n",
       "      <td>11250</td>\n",
       "      <td>Pave</td>\n",
       "      <td>NaN</td>\n",
       "      <td>IR1</td>\n",
       "      <td>Lvl</td>\n",
       "      <td>AllPub</td>\n",
       "      <td>...</td>\n",
       "      <td>0</td>\n",
       "      <td>NaN</td>\n",
       "      <td>NaN</td>\n",
       "      <td>NaN</td>\n",
       "      <td>0</td>\n",
       "      <td>9</td>\n",
       "      <td>2008</td>\n",
       "      <td>WD</td>\n",
       "      <td>Normal</td>\n",
       "      <td>223500</td>\n",
       "    </tr>\n",
       "    <tr>\n",
       "      <th>3</th>\n",
       "      <td>4</td>\n",
       "      <td>70</td>\n",
       "      <td>RL</td>\n",
       "      <td>60.0</td>\n",
       "      <td>9550</td>\n",
       "      <td>Pave</td>\n",
       "      <td>NaN</td>\n",
       "      <td>IR1</td>\n",
       "      <td>Lvl</td>\n",
       "      <td>AllPub</td>\n",
       "      <td>...</td>\n",
       "      <td>0</td>\n",
       "      <td>NaN</td>\n",
       "      <td>NaN</td>\n",
       "      <td>NaN</td>\n",
       "      <td>0</td>\n",
       "      <td>2</td>\n",
       "      <td>2006</td>\n",
       "      <td>WD</td>\n",
       "      <td>Abnorml</td>\n",
       "      <td>140000</td>\n",
       "    </tr>\n",
       "    <tr>\n",
       "      <th>4</th>\n",
       "      <td>5</td>\n",
       "      <td>60</td>\n",
       "      <td>RL</td>\n",
       "      <td>84.0</td>\n",
       "      <td>14260</td>\n",
       "      <td>Pave</td>\n",
       "      <td>NaN</td>\n",
       "      <td>IR1</td>\n",
       "      <td>Lvl</td>\n",
       "      <td>AllPub</td>\n",
       "      <td>...</td>\n",
       "      <td>0</td>\n",
       "      <td>NaN</td>\n",
       "      <td>NaN</td>\n",
       "      <td>NaN</td>\n",
       "      <td>0</td>\n",
       "      <td>12</td>\n",
       "      <td>2008</td>\n",
       "      <td>WD</td>\n",
       "      <td>Normal</td>\n",
       "      <td>250000</td>\n",
       "    </tr>\n",
       "  </tbody>\n",
       "</table>\n",
       "<p>5 rows × 81 columns</p>\n",
       "</div>"
      ],
      "text/plain": [
       "   Id  MSSubClass MSZoning  LotFrontage  LotArea Street Alley LotShape  \\\n",
       "0   1          60       RL         65.0     8450   Pave   NaN      Reg   \n",
       "1   2          20       RL         80.0     9600   Pave   NaN      Reg   \n",
       "2   3          60       RL         68.0    11250   Pave   NaN      IR1   \n",
       "3   4          70       RL         60.0     9550   Pave   NaN      IR1   \n",
       "4   5          60       RL         84.0    14260   Pave   NaN      IR1   \n",
       "\n",
       "  LandContour Utilities  ... PoolArea PoolQC Fence MiscFeature MiscVal MoSold  \\\n",
       "0         Lvl    AllPub  ...        0    NaN   NaN         NaN       0      2   \n",
       "1         Lvl    AllPub  ...        0    NaN   NaN         NaN       0      5   \n",
       "2         Lvl    AllPub  ...        0    NaN   NaN         NaN       0      9   \n",
       "3         Lvl    AllPub  ...        0    NaN   NaN         NaN       0      2   \n",
       "4         Lvl    AllPub  ...        0    NaN   NaN         NaN       0     12   \n",
       "\n",
       "  YrSold  SaleType  SaleCondition  SalePrice  \n",
       "0   2008        WD         Normal     208500  \n",
       "1   2007        WD         Normal     181500  \n",
       "2   2008        WD         Normal     223500  \n",
       "3   2006        WD        Abnorml     140000  \n",
       "4   2008        WD         Normal     250000  \n",
       "\n",
       "[5 rows x 81 columns]"
      ]
     },
     "execution_count": 74,
     "metadata": {},
     "output_type": "execute_result"
    }
   ],
   "source": [
    "#view a few observations\n",
    "data.head()"
   ]
  },
  {
   "cell_type": "markdown",
   "metadata": {},
   "source": [
    "#### Use your intuition!\n",
    "At first glance is there any field that, without a doubt, will not contribute to the predictions?"
   ]
  },
  {
   "cell_type": "code",
   "execution_count": 75,
   "metadata": {},
   "outputs": [],
   "source": [
    "#TODO: remove/exclude the unnecessary field(s) that will not contribute towards the prediction\n",
    "data.drop('Id', axis = 1, inplace = True)"
   ]
  },
  {
   "cell_type": "markdown",
   "metadata": {},
   "source": [
    "### Step 2 – Data Exploration\n",
    "- Gather summary/descriptive statistics and inspect **all the fields**. This can help you to identify outliers and detect any inconsistencies\n",
    "- View the frequency of missing values."
   ]
  },
  {
   "cell_type": "code",
   "execution_count": 76,
   "metadata": {},
   "outputs": [
    {
     "data": {
      "text/html": [
       "<div>\n",
       "<style scoped>\n",
       "    .dataframe tbody tr th:only-of-type {\n",
       "        vertical-align: middle;\n",
       "    }\n",
       "\n",
       "    .dataframe tbody tr th {\n",
       "        vertical-align: top;\n",
       "    }\n",
       "\n",
       "    .dataframe thead th {\n",
       "        text-align: right;\n",
       "    }\n",
       "</style>\n",
       "<table border=\"1\" class=\"dataframe\">\n",
       "  <thead>\n",
       "    <tr style=\"text-align: right;\">\n",
       "      <th></th>\n",
       "      <th>MSSubClass</th>\n",
       "      <th>LotFrontage</th>\n",
       "      <th>LotArea</th>\n",
       "      <th>OverallQual</th>\n",
       "      <th>OverallCond</th>\n",
       "      <th>YearBuilt</th>\n",
       "      <th>YearRemodAdd</th>\n",
       "      <th>MasVnrArea</th>\n",
       "      <th>BsmtFinSF1</th>\n",
       "      <th>BsmtFinSF2</th>\n",
       "      <th>...</th>\n",
       "      <th>WoodDeckSF</th>\n",
       "      <th>OpenPorchSF</th>\n",
       "      <th>EnclosedPorch</th>\n",
       "      <th>3SsnPorch</th>\n",
       "      <th>ScreenPorch</th>\n",
       "      <th>PoolArea</th>\n",
       "      <th>MiscVal</th>\n",
       "      <th>MoSold</th>\n",
       "      <th>YrSold</th>\n",
       "      <th>SalePrice</th>\n",
       "    </tr>\n",
       "  </thead>\n",
       "  <tbody>\n",
       "    <tr>\n",
       "      <th>count</th>\n",
       "      <td>1460.000000</td>\n",
       "      <td>1201.000000</td>\n",
       "      <td>1460.000000</td>\n",
       "      <td>1460.000000</td>\n",
       "      <td>1460.000000</td>\n",
       "      <td>1460.000000</td>\n",
       "      <td>1460.000000</td>\n",
       "      <td>1452.000000</td>\n",
       "      <td>1460.000000</td>\n",
       "      <td>1460.000000</td>\n",
       "      <td>...</td>\n",
       "      <td>1460.000000</td>\n",
       "      <td>1460.000000</td>\n",
       "      <td>1460.000000</td>\n",
       "      <td>1460.000000</td>\n",
       "      <td>1460.000000</td>\n",
       "      <td>1460.000000</td>\n",
       "      <td>1460.000000</td>\n",
       "      <td>1460.000000</td>\n",
       "      <td>1460.000000</td>\n",
       "      <td>1460.000000</td>\n",
       "    </tr>\n",
       "    <tr>\n",
       "      <th>mean</th>\n",
       "      <td>56.897260</td>\n",
       "      <td>70.049958</td>\n",
       "      <td>10516.828082</td>\n",
       "      <td>6.099315</td>\n",
       "      <td>5.575342</td>\n",
       "      <td>1971.267808</td>\n",
       "      <td>1984.865753</td>\n",
       "      <td>103.685262</td>\n",
       "      <td>443.639726</td>\n",
       "      <td>46.549315</td>\n",
       "      <td>...</td>\n",
       "      <td>94.244521</td>\n",
       "      <td>46.660274</td>\n",
       "      <td>21.954110</td>\n",
       "      <td>3.409589</td>\n",
       "      <td>15.060959</td>\n",
       "      <td>2.758904</td>\n",
       "      <td>43.489041</td>\n",
       "      <td>6.321918</td>\n",
       "      <td>2007.815753</td>\n",
       "      <td>180921.195890</td>\n",
       "    </tr>\n",
       "    <tr>\n",
       "      <th>std</th>\n",
       "      <td>42.300571</td>\n",
       "      <td>24.284752</td>\n",
       "      <td>9981.264932</td>\n",
       "      <td>1.382997</td>\n",
       "      <td>1.112799</td>\n",
       "      <td>30.202904</td>\n",
       "      <td>20.645407</td>\n",
       "      <td>181.066207</td>\n",
       "      <td>456.098091</td>\n",
       "      <td>161.319273</td>\n",
       "      <td>...</td>\n",
       "      <td>125.338794</td>\n",
       "      <td>66.256028</td>\n",
       "      <td>61.119149</td>\n",
       "      <td>29.317331</td>\n",
       "      <td>55.757415</td>\n",
       "      <td>40.177307</td>\n",
       "      <td>496.123024</td>\n",
       "      <td>2.703626</td>\n",
       "      <td>1.328095</td>\n",
       "      <td>79442.502883</td>\n",
       "    </tr>\n",
       "    <tr>\n",
       "      <th>min</th>\n",
       "      <td>20.000000</td>\n",
       "      <td>21.000000</td>\n",
       "      <td>1300.000000</td>\n",
       "      <td>1.000000</td>\n",
       "      <td>1.000000</td>\n",
       "      <td>1872.000000</td>\n",
       "      <td>1950.000000</td>\n",
       "      <td>0.000000</td>\n",
       "      <td>0.000000</td>\n",
       "      <td>0.000000</td>\n",
       "      <td>...</td>\n",
       "      <td>0.000000</td>\n",
       "      <td>0.000000</td>\n",
       "      <td>0.000000</td>\n",
       "      <td>0.000000</td>\n",
       "      <td>0.000000</td>\n",
       "      <td>0.000000</td>\n",
       "      <td>0.000000</td>\n",
       "      <td>1.000000</td>\n",
       "      <td>2006.000000</td>\n",
       "      <td>34900.000000</td>\n",
       "    </tr>\n",
       "    <tr>\n",
       "      <th>25%</th>\n",
       "      <td>20.000000</td>\n",
       "      <td>59.000000</td>\n",
       "      <td>7553.500000</td>\n",
       "      <td>5.000000</td>\n",
       "      <td>5.000000</td>\n",
       "      <td>1954.000000</td>\n",
       "      <td>1967.000000</td>\n",
       "      <td>0.000000</td>\n",
       "      <td>0.000000</td>\n",
       "      <td>0.000000</td>\n",
       "      <td>...</td>\n",
       "      <td>0.000000</td>\n",
       "      <td>0.000000</td>\n",
       "      <td>0.000000</td>\n",
       "      <td>0.000000</td>\n",
       "      <td>0.000000</td>\n",
       "      <td>0.000000</td>\n",
       "      <td>0.000000</td>\n",
       "      <td>5.000000</td>\n",
       "      <td>2007.000000</td>\n",
       "      <td>129975.000000</td>\n",
       "    </tr>\n",
       "    <tr>\n",
       "      <th>50%</th>\n",
       "      <td>50.000000</td>\n",
       "      <td>69.000000</td>\n",
       "      <td>9478.500000</td>\n",
       "      <td>6.000000</td>\n",
       "      <td>5.000000</td>\n",
       "      <td>1973.000000</td>\n",
       "      <td>1994.000000</td>\n",
       "      <td>0.000000</td>\n",
       "      <td>383.500000</td>\n",
       "      <td>0.000000</td>\n",
       "      <td>...</td>\n",
       "      <td>0.000000</td>\n",
       "      <td>25.000000</td>\n",
       "      <td>0.000000</td>\n",
       "      <td>0.000000</td>\n",
       "      <td>0.000000</td>\n",
       "      <td>0.000000</td>\n",
       "      <td>0.000000</td>\n",
       "      <td>6.000000</td>\n",
       "      <td>2008.000000</td>\n",
       "      <td>163000.000000</td>\n",
       "    </tr>\n",
       "    <tr>\n",
       "      <th>75%</th>\n",
       "      <td>70.000000</td>\n",
       "      <td>80.000000</td>\n",
       "      <td>11601.500000</td>\n",
       "      <td>7.000000</td>\n",
       "      <td>6.000000</td>\n",
       "      <td>2000.000000</td>\n",
       "      <td>2004.000000</td>\n",
       "      <td>166.000000</td>\n",
       "      <td>712.250000</td>\n",
       "      <td>0.000000</td>\n",
       "      <td>...</td>\n",
       "      <td>168.000000</td>\n",
       "      <td>68.000000</td>\n",
       "      <td>0.000000</td>\n",
       "      <td>0.000000</td>\n",
       "      <td>0.000000</td>\n",
       "      <td>0.000000</td>\n",
       "      <td>0.000000</td>\n",
       "      <td>8.000000</td>\n",
       "      <td>2009.000000</td>\n",
       "      <td>214000.000000</td>\n",
       "    </tr>\n",
       "    <tr>\n",
       "      <th>max</th>\n",
       "      <td>190.000000</td>\n",
       "      <td>313.000000</td>\n",
       "      <td>215245.000000</td>\n",
       "      <td>10.000000</td>\n",
       "      <td>9.000000</td>\n",
       "      <td>2010.000000</td>\n",
       "      <td>2010.000000</td>\n",
       "      <td>1600.000000</td>\n",
       "      <td>5644.000000</td>\n",
       "      <td>1474.000000</td>\n",
       "      <td>...</td>\n",
       "      <td>857.000000</td>\n",
       "      <td>547.000000</td>\n",
       "      <td>552.000000</td>\n",
       "      <td>508.000000</td>\n",
       "      <td>480.000000</td>\n",
       "      <td>738.000000</td>\n",
       "      <td>15500.000000</td>\n",
       "      <td>12.000000</td>\n",
       "      <td>2010.000000</td>\n",
       "      <td>755000.000000</td>\n",
       "    </tr>\n",
       "  </tbody>\n",
       "</table>\n",
       "<p>8 rows × 37 columns</p>\n",
       "</div>"
      ],
      "text/plain": [
       "        MSSubClass  LotFrontage        LotArea  OverallQual  OverallCond  \\\n",
       "count  1460.000000  1201.000000    1460.000000  1460.000000  1460.000000   \n",
       "mean     56.897260    70.049958   10516.828082     6.099315     5.575342   \n",
       "std      42.300571    24.284752    9981.264932     1.382997     1.112799   \n",
       "min      20.000000    21.000000    1300.000000     1.000000     1.000000   \n",
       "25%      20.000000    59.000000    7553.500000     5.000000     5.000000   \n",
       "50%      50.000000    69.000000    9478.500000     6.000000     5.000000   \n",
       "75%      70.000000    80.000000   11601.500000     7.000000     6.000000   \n",
       "max     190.000000   313.000000  215245.000000    10.000000     9.000000   \n",
       "\n",
       "         YearBuilt  YearRemodAdd   MasVnrArea   BsmtFinSF1   BsmtFinSF2  ...  \\\n",
       "count  1460.000000   1460.000000  1452.000000  1460.000000  1460.000000  ...   \n",
       "mean   1971.267808   1984.865753   103.685262   443.639726    46.549315  ...   \n",
       "std      30.202904     20.645407   181.066207   456.098091   161.319273  ...   \n",
       "min    1872.000000   1950.000000     0.000000     0.000000     0.000000  ...   \n",
       "25%    1954.000000   1967.000000     0.000000     0.000000     0.000000  ...   \n",
       "50%    1973.000000   1994.000000     0.000000   383.500000     0.000000  ...   \n",
       "75%    2000.000000   2004.000000   166.000000   712.250000     0.000000  ...   \n",
       "max    2010.000000   2010.000000  1600.000000  5644.000000  1474.000000  ...   \n",
       "\n",
       "        WoodDeckSF  OpenPorchSF  EnclosedPorch    3SsnPorch  ScreenPorch  \\\n",
       "count  1460.000000  1460.000000    1460.000000  1460.000000  1460.000000   \n",
       "mean     94.244521    46.660274      21.954110     3.409589    15.060959   \n",
       "std     125.338794    66.256028      61.119149    29.317331    55.757415   \n",
       "min       0.000000     0.000000       0.000000     0.000000     0.000000   \n",
       "25%       0.000000     0.000000       0.000000     0.000000     0.000000   \n",
       "50%       0.000000    25.000000       0.000000     0.000000     0.000000   \n",
       "75%     168.000000    68.000000       0.000000     0.000000     0.000000   \n",
       "max     857.000000   547.000000     552.000000   508.000000   480.000000   \n",
       "\n",
       "          PoolArea       MiscVal       MoSold       YrSold      SalePrice  \n",
       "count  1460.000000   1460.000000  1460.000000  1460.000000    1460.000000  \n",
       "mean      2.758904     43.489041     6.321918  2007.815753  180921.195890  \n",
       "std      40.177307    496.123024     2.703626     1.328095   79442.502883  \n",
       "min       0.000000      0.000000     1.000000  2006.000000   34900.000000  \n",
       "25%       0.000000      0.000000     5.000000  2007.000000  129975.000000  \n",
       "50%       0.000000      0.000000     6.000000  2008.000000  163000.000000  \n",
       "75%       0.000000      0.000000     8.000000  2009.000000  214000.000000  \n",
       "max     738.000000  15500.000000    12.000000  2010.000000  755000.000000  \n",
       "\n",
       "[8 rows x 37 columns]"
      ]
     },
     "execution_count": 76,
     "metadata": {},
     "output_type": "execute_result"
    }
   ],
   "source": [
    "#TODO: gather descriptive statistics to view the range of values in each field. \n",
    "data.describe()\n"
   ]
  },
  {
   "cell_type": "code",
   "execution_count": 77,
   "metadata": {},
   "outputs": [
    {
     "data": {
      "text/plain": [
       "[('LotFrontage', 259, 110),\n",
       " ('Alley', 1369, 2),\n",
       " ('MasVnrType', 8, 4),\n",
       " ('MasVnrArea', 8, 327),\n",
       " ('BsmtQual', 37, 4),\n",
       " ('BsmtCond', 37, 4),\n",
       " ('BsmtExposure', 38, 4),\n",
       " ('BsmtFinType1', 37, 6),\n",
       " ('BsmtFinType2', 38, 6),\n",
       " ('Electrical', 1, 5),\n",
       " ('FireplaceQu', 690, 5),\n",
       " ('GarageType', 81, 6),\n",
       " ('GarageYrBlt', 81, 97),\n",
       " ('GarageFinish', 81, 3),\n",
       " ('GarageQual', 81, 5),\n",
       " ('GarageCond', 81, 5),\n",
       " ('PoolQC', 1453, 3),\n",
       " ('Fence', 1179, 4),\n",
       " ('MiscFeature', 1406, 4)]"
      ]
     },
     "execution_count": 77,
     "metadata": {},
     "output_type": "execute_result"
    }
   ],
   "source": [
    "#TODO: show the frequency of missing values\n",
    "[ (i,data[i].isna().sum(), len(data[i].value_counts())) for i in data.columns if data[i].isna().sum() > 0]"
   ]
  },
  {
   "cell_type": "markdown",
   "metadata": {},
   "source": [
    "State your observations about the summary statistics and missing values **(in this cell)**:\n",
    "- There are quite a few columns with a significant amount of missing values, those columns should probably be removed entirely since imputing them will be too difficult and can skew the data.\n",
    "- There are a few columns where it seems almost all of the data falls into a singular bucket, those columns should also potentially be removed since there is little variation and thus may have a lower ability to tell us anything about the data.\n",
    "- The vast majority of columns aren't missing any data which is excellent!\n",
    "- There are a large amount of categorical columns which means we'll have to do a bit of encoding, even a few of the continous columns are actually categorical and have just been encoded already.\n",
    "- There is a decent amount of variety in the sales prices of the properties in the dataset, also since the mean is greater than the median we have a few very highly priced homes that don't fit the norm.\n",
    "\n",
    "Note: recall that not all missing values need to be deleted, some of them can be imputed."
   ]
  },
  {
   "cell_type": "markdown",
   "metadata": {},
   "source": [
    "#### The continuous and categorical independent variables\n",
    "List the continuous and categorical data and state any discrepancy between the number of expected records in the dataset and the `count` that is reported above. \n",
    "\n",
    "For the fields that are discussed, view `data_description.txt` which explains the range of values for each field. What does this tell you about these 'missing' values. How do you recommend addressing them? **(You do not need to demonstrate your recommendations)**\n"
   ]
  },
  {
   "cell_type": "code",
   "execution_count": 78,
   "metadata": {},
   "outputs": [
    {
     "data": {
      "text/plain": [
       "[('MSSubClass', dtype('int64')),\n",
       " ('MSZoning', dtype('O')),\n",
       " ('LotFrontage', dtype('float64')),\n",
       " ('LotArea', dtype('int64')),\n",
       " ('Street', dtype('O')),\n",
       " ('Alley', dtype('O')),\n",
       " ('LotShape', dtype('O')),\n",
       " ('LandContour', dtype('O')),\n",
       " ('Utilities', dtype('O')),\n",
       " ('LotConfig', dtype('O')),\n",
       " ('LandSlope', dtype('O')),\n",
       " ('Neighborhood', dtype('O')),\n",
       " ('Condition1', dtype('O')),\n",
       " ('Condition2', dtype('O')),\n",
       " ('BldgType', dtype('O')),\n",
       " ('HouseStyle', dtype('O')),\n",
       " ('OverallQual', dtype('int64')),\n",
       " ('OverallCond', dtype('int64')),\n",
       " ('YearBuilt', dtype('int64')),\n",
       " ('YearRemodAdd', dtype('int64')),\n",
       " ('RoofStyle', dtype('O')),\n",
       " ('RoofMatl', dtype('O')),\n",
       " ('Exterior1st', dtype('O')),\n",
       " ('Exterior2nd', dtype('O')),\n",
       " ('MasVnrType', dtype('O')),\n",
       " ('MasVnrArea', dtype('float64')),\n",
       " ('ExterQual', dtype('O')),\n",
       " ('ExterCond', dtype('O')),\n",
       " ('Foundation', dtype('O')),\n",
       " ('BsmtQual', dtype('O')),\n",
       " ('BsmtCond', dtype('O')),\n",
       " ('BsmtExposure', dtype('O')),\n",
       " ('BsmtFinType1', dtype('O')),\n",
       " ('BsmtFinSF1', dtype('int64')),\n",
       " ('BsmtFinType2', dtype('O')),\n",
       " ('BsmtFinSF2', dtype('int64')),\n",
       " ('BsmtUnfSF', dtype('int64')),\n",
       " ('TotalBsmtSF', dtype('int64')),\n",
       " ('Heating', dtype('O')),\n",
       " ('HeatingQC', dtype('O')),\n",
       " ('CentralAir', dtype('O')),\n",
       " ('Electrical', dtype('O')),\n",
       " ('1stFlrSF', dtype('int64')),\n",
       " ('2ndFlrSF', dtype('int64')),\n",
       " ('LowQualFinSF', dtype('int64')),\n",
       " ('GrLivArea', dtype('int64')),\n",
       " ('BsmtFullBath', dtype('int64')),\n",
       " ('BsmtHalfBath', dtype('int64')),\n",
       " ('FullBath', dtype('int64')),\n",
       " ('HalfBath', dtype('int64')),\n",
       " ('BedroomAbvGr', dtype('int64')),\n",
       " ('KitchenAbvGr', dtype('int64')),\n",
       " ('KitchenQual', dtype('O')),\n",
       " ('TotRmsAbvGrd', dtype('int64')),\n",
       " ('Functional', dtype('O')),\n",
       " ('Fireplaces', dtype('int64')),\n",
       " ('FireplaceQu', dtype('O')),\n",
       " ('GarageType', dtype('O')),\n",
       " ('GarageYrBlt', dtype('float64')),\n",
       " ('GarageFinish', dtype('O')),\n",
       " ('GarageCars', dtype('int64')),\n",
       " ('GarageArea', dtype('int64')),\n",
       " ('GarageQual', dtype('O')),\n",
       " ('GarageCond', dtype('O')),\n",
       " ('PavedDrive', dtype('O')),\n",
       " ('WoodDeckSF', dtype('int64')),\n",
       " ('OpenPorchSF', dtype('int64')),\n",
       " ('EnclosedPorch', dtype('int64')),\n",
       " ('3SsnPorch', dtype('int64')),\n",
       " ('ScreenPorch', dtype('int64')),\n",
       " ('PoolArea', dtype('int64')),\n",
       " ('PoolQC', dtype('O')),\n",
       " ('Fence', dtype('O')),\n",
       " ('MiscFeature', dtype('O')),\n",
       " ('MiscVal', dtype('int64')),\n",
       " ('MoSold', dtype('int64')),\n",
       " ('YrSold', dtype('int64')),\n",
       " ('SaleType', dtype('O')),\n",
       " ('SaleCondition', dtype('O')),\n",
       " ('SalePrice', dtype('int64'))]"
      ]
     },
     "execution_count": 78,
     "metadata": {},
     "output_type": "execute_result"
    }
   ],
   "source": [
    "[(i,data[i].dtype) for i in data.columns]\n",
    "\n",
    "# The discrepancies seem to be based on missing values not being accounted for\n",
    "# They actually aren't missing values at all but indicative of a true state in the data\n",
    "# They just need to be changed into an appropriate value for the field they are in\n",
    "# They don't need to be deleted\n",
    "# Columns where nearly all of the values are 'missing' should proably still be removed though"
   ]
  },
  {
   "cell_type": "markdown",
   "metadata": {},
   "source": [
    "#### The dependent variable\n",
    "Are there any discrepancies with the dependent variable? Plot a histogram showing its distribution. Is the distribution skewed?"
   ]
  },
  {
   "cell_type": "code",
   "execution_count": 79,
   "metadata": {},
   "outputs": [
    {
     "data": {
      "text/plain": [
       "<matplotlib.axes._subplots.AxesSubplot at 0x1ce031086d8>"
      ]
     },
     "execution_count": 79,
     "metadata": {},
     "output_type": "execute_result"
    },
    {
     "data": {
      "image/png": "[encoded data removed]",
      "text/plain": [
       "<Figure size 432x288 with 1 Axes>"
      ]
     },
     "metadata": {
      "needs_background": "light"
     },
     "output_type": "display_data"
    }
   ],
   "source": [
    "#TODO: Plot the histogram\n",
    "data['SalePrice'].hist()\n",
    "\n",
    "# No apparent discrepancies\n",
    "# The distribution is skewed to the right though as expected from the describe output"
   ]
  },
  {
   "cell_type": "markdown",
   "metadata": {},
   "source": [
    "## Building the Pipeline\n",
    "Based on your recommendations above, lets build a pipeline that does the following:\n",
    "- prepare the data and perform data imputation\n",
    "- transform the continuous and categorical data (scaling and encoding respectively)\n",
    "- select the useful features e.g. feature selection, *you can optionally include this in the pipeline or perform this step prior to building the pipeline*\n",
    "- build, train and evaluate the neural network using Keras.\n",
    "- perform hyper-parameter tuning using RandomSearchCV **(optional)**\n",
    "- make predictions with new data"
   ]
  },
  {
   "cell_type": "markdown",
   "metadata": {},
   "source": [
    "### Step 3 – Data Preparation\n",
    "Here is some helpful information on [preprocessing and feature extraction pipelines in scikit-learn](https://scikit-learn.org/stable/auto_examples/compose/plot_column_transformer_mixed_types.html)\n",
    "\n",
    "<span style=\"color:red\">NOTE: You can modify the cell below to suit your needs. However, ensure that the preprocessing steps that you perform is done in the data frame e.g. `data` </span>"
   ]
  },
  {
   "cell_type": "code",
   "execution_count": 80,
   "metadata": {},
   "outputs": [],
   "source": [
    "# Drop fields where more than 92% of all values are the same\n",
    "#for col in data.columns:\n",
    "#    if data[col].isna().sum() > 0:\n",
    "#        if data[col].dtype == 'float64':\n",
    "#            data[col].fillna(0, inplace = True)\n",
    "#        else:\n",
    "#            data[col].fillna('none', inplace = True)\n",
    "#for col in data.columns:\n",
    "#    if (data[col].value_counts()/data[col].value_counts().sum()).iat[0] > .92:\n",
    "#        data.drop(col, axis = 1, inplace = True)\n",
    "#data.shape"
   ]
  },
  {
   "cell_type": "code",
   "execution_count": 81,
   "metadata": {},
   "outputs": [],
   "source": [
    "#impute missing continuous values with the median and scale the data\n",
    "\n",
    "continuous_features  = [i for i in data.columns if data[i].dtype == 'float64' or data[i].dtype == 'int64'  and i != 'SalePrice'] #TODO: provide a list of continuous fields that will be used in the model(except the dependent variable)\n",
    "continous_transformer = Pipeline(\n",
    "    steps = [\n",
    "    ('imputer', SimpleImputer(strategy = 'median')),\n",
    "    ('scaler', StandardScaler())\n",
    "    ])\n",
    "\n",
    "#impute the NA categorical values and encode the data\n",
    "\n",
    "categorical_features = [i for i in data.columns if data[i].dtype == 'O'] #TODO: provide a list of categorical fields that will be used in the model\n",
    "categorical_transformer = Pipeline(\n",
    "    steps = [\n",
    "    ('imputer', SimpleImputer(strategy = 'constant', fill_value = 'NotApp')), #Use an alternative value to indicate NA in the dataset\n",
    "    ('onehot', OneHotEncoder(handle_unknown = 'ignore'))\n",
    "    ])\n",
    "\n",
    "data_preprocessor   = ColumnTransformer(\n",
    "    transformers = [\n",
    "        ('continious', continous_transformer, continuous_features),\n",
    "        ('categorical', categorical_transformer, categorical_features)\n",
    "    ])\n",
    "\n",
    "#NOTE: the steps above will not be performed until we call `fit_transform` (in the next cell).\n"
   ]
  },
  {
   "cell_type": "markdown",
   "metadata": {},
   "source": [
    "### Step 4 – Data Transformation & Feature Selection\n",
    "Here is some helpful information on [feature selection as part of a pipeline](https://scikit-learn.org/stable/modules/feature_selection.html#feature-selection-as-part-of-a-pipeline). If you add a feature selection algorithm to the pipeline, ensure that it supports regression."
   ]
  },
  {
   "cell_type": "code",
   "execution_count": 82,
   "metadata": {},
   "outputs": [],
   "source": [
    "data_prep_pipeline  = Pipeline(steps=[('preprocessor', data_preprocessor), #This performs the data preparation steps in the cell above\n",
    "                     ('feature_selection', SelectKBest(score_func = f_regression, k = 17) #TODO: identify a feature selection algorithm or exclude this line if you have previously performed feature selection on the data.\n",
    "                                                          ), \n",
    "                    ])\n",
    "\n",
    "transformed_data    = data_prep_pipeline.fit_transform(data.iloc[:, :-1], data['SalePrice']) #transform the data\n"
   ]
  },
  {
   "cell_type": "markdown",
   "metadata": {},
   "source": [
    "### Step 5 – Building the Model\n",
    "#### Build the neural network using Keras\n",
    "Build a feed forward neural network with: an input layer, hidden layers and one output layer. \n",
    "\n",
    "Note: you are required to provide a suitable [optimizer](https://keras.io/api/optimizers/) and [loss function](https://keras.io/api/losses/) for the regression task. Optimizers include: 'Adam', 'SGD' and RMSprop. Loss functions include: 'mean_squared_error', 'mean_squared_logarithmic_error', 'mean_absolute_error'"
   ]
  },
  {
   "cell_type": "code",
   "execution_count": 96,
   "metadata": {},
   "outputs": [
    {
     "name": "stdout",
     "output_type": "stream",
     "text": [
      "Epoch 1/48\n",
      "16/16 [==============================] - 0s 15ms/step - loss: 39340683264.0000 - mean_absolute_percentage_error: 99.9103 - val_loss: 37934698496.0000 - val_mean_absolute_percentage_error: 99.5395\n",
      "Epoch 2/48\n",
      "16/16 [==============================] - 0s 8ms/step - loss: 37425487872.0000 - mean_absolute_percentage_error: 97.0990 - val_loss: 32711876608.0000 - val_mean_absolute_percentage_error: 91.1632\n",
      "Epoch 3/48\n",
      "16/16 [==============================] - 0s 7ms/step - loss: 23815704576.0000 - mean_absolute_percentage_error: 73.5544 - val_loss: 9414905856.0000 - val_mean_absolute_percentage_error: 45.1783\n",
      "Epoch 4/48\n",
      "16/16 [==============================] - 0s 7ms/step - loss: 5902906880.0000 - mean_absolute_percentage_error: 37.9661 - val_loss: 6064299008.0000 - val_mean_absolute_percentage_error: 31.8435\n",
      "Epoch 5/48\n",
      "16/16 [==============================] - 0s 7ms/step - loss: 3823553280.0000 - mean_absolute_percentage_error: 28.5616 - val_loss: 4238645760.0000 - val_mean_absolute_percentage_error: 26.9057\n",
      "Epoch 6/48\n",
      "16/16 [==============================] - 0s 7ms/step - loss: 3033061888.0000 - mean_absolute_percentage_error: 25.3544 - val_loss: 3916264960.0000 - val_mean_absolute_percentage_error: 25.1151\n",
      "Epoch 7/48\n",
      "16/16 [==============================] - 0s 7ms/step - loss: 2782929664.0000 - mean_absolute_percentage_error: 23.8345 - val_loss: 3469093888.0000 - val_mean_absolute_percentage_error: 23.6634\n",
      "Epoch 8/48\n",
      "16/16 [==============================] - 0s 7ms/step - loss: 2417058048.0000 - mean_absolute_percentage_error: 22.3738 - val_loss: 3255883520.0000 - val_mean_absolute_percentage_error: 22.4989\n",
      "Epoch 9/48\n",
      "16/16 [==============================] - 0s 7ms/step - loss: 2192876800.0000 - mean_absolute_percentage_error: 21.0727 - val_loss: 3046253056.0000 - val_mean_absolute_percentage_error: 21.6575\n",
      "Epoch 10/48\n",
      "16/16 [==============================] - 0s 7ms/step - loss: 2033208192.0000 - mean_absolute_percentage_error: 20.3628 - val_loss: 2891419648.0000 - val_mean_absolute_percentage_error: 21.0223\n",
      "Epoch 11/48\n",
      "16/16 [==============================] - 0s 7ms/step - loss: 1894370048.0000 - mean_absolute_percentage_error: 19.6575 - val_loss: 2787569920.0000 - val_mean_absolute_percentage_error: 20.4287\n",
      "Epoch 12/48\n",
      "16/16 [==============================] - 0s 7ms/step - loss: 1776329472.0000 - mean_absolute_percentage_error: 19.1013 - val_loss: 2626388480.0000 - val_mean_absolute_percentage_error: 19.7822\n",
      "Epoch 13/48\n",
      "16/16 [==============================] - 0s 7ms/step - loss: 1684791680.0000 - mean_absolute_percentage_error: 18.5007 - val_loss: 2562483456.0000 - val_mean_absolute_percentage_error: 19.3251\n",
      "Epoch 14/48\n",
      "16/16 [==============================] - 0s 6ms/step - loss: 1593241600.0000 - mean_absolute_percentage_error: 17.9190 - val_loss: 2430913792.0000 - val_mean_absolute_percentage_error: 18.6834\n",
      "Epoch 15/48\n",
      "16/16 [==============================] - 0s 7ms/step - loss: 1530991360.0000 - mean_absolute_percentage_error: 17.5439 - val_loss: 2378285824.0000 - val_mean_absolute_percentage_error: 18.1975\n",
      "Epoch 16/48\n",
      "16/16 [==============================] - 0s 7ms/step - loss: 1477106560.0000 - mean_absolute_percentage_error: 16.9998 - val_loss: 2284983808.0000 - val_mean_absolute_percentage_error: 17.7952\n",
      "Epoch 17/48\n",
      "16/16 [==============================] - 0s 7ms/step - loss: 1408760064.0000 - mean_absolute_percentage_error: 16.5074 - val_loss: 2272502528.0000 - val_mean_absolute_percentage_error: 17.5914\n",
      "Epoch 18/48\n",
      "16/16 [==============================] - 0s 7ms/step - loss: 1365904384.0000 - mean_absolute_percentage_error: 16.0995 - val_loss: 2187217408.0000 - val_mean_absolute_percentage_error: 17.0104\n",
      "Epoch 19/48\n",
      "16/16 [==============================] - 0s 8ms/step - loss: 1308144256.0000 - mean_absolute_percentage_error: 15.6813 - val_loss: 2184690944.0000 - val_mean_absolute_percentage_error: 16.7826\n",
      "Epoch 20/48\n",
      "16/16 [==============================] - 0s 9ms/step - loss: 1266218368.0000 - mean_absolute_percentage_error: 15.3171 - val_loss: 2178788608.0000 - val_mean_absolute_percentage_error: 16.6024\n",
      "Epoch 21/48\n",
      "16/16 [==============================] - 0s 7ms/step - loss: 1250678272.0000 - mean_absolute_percentage_error: 14.9971 - val_loss: 2044083328.0000 - val_mean_absolute_percentage_error: 15.8889\n",
      "Epoch 22/48\n",
      "16/16 [==============================] - 0s 8ms/step - loss: 1230369536.0000 - mean_absolute_percentage_error: 14.6756 - val_loss: 2084113152.0000 - val_mean_absolute_percentage_error: 15.9281\n",
      "Epoch 23/48\n",
      "16/16 [==============================] - 0s 8ms/step - loss: 1177021824.0000 - mean_absolute_percentage_error: 14.3393 - val_loss: 1961110016.0000 - val_mean_absolute_percentage_error: 15.3063\n",
      "Epoch 24/48\n",
      "16/16 [==============================] - 0s 8ms/step - loss: 1126827264.0000 - mean_absolute_percentage_error: 13.9151 - val_loss: 1995500032.0000 - val_mean_absolute_percentage_error: 15.1555\n",
      "Epoch 25/48\n",
      "16/16 [==============================] - 0s 9ms/step - loss: 1119182208.0000 - mean_absolute_percentage_error: 13.6241 - val_loss: 1941101440.0000 - val_mean_absolute_percentage_error: 14.7080\n",
      "Epoch 26/48\n",
      "16/16 [==============================] - 0s 15ms/step - loss: 1102842880.0000 - mean_absolute_percentage_error: 13.5404 - val_loss: 1975665664.0000 - val_mean_absolute_percentage_error: 14.9241\n",
      "Epoch 27/48\n",
      "16/16 [==============================] - 0s 13ms/step - loss: 1067536128.0000 - mean_absolute_percentage_error: 13.1629 - val_loss: 1941828864.0000 - val_mean_absolute_percentage_error: 14.5922\n",
      "Epoch 28/48\n",
      "16/16 [==============================] - 0s 13ms/step - loss: 1069069760.0000 - mean_absolute_percentage_error: 12.9542 - val_loss: 1982413568.0000 - val_mean_absolute_percentage_error: 14.7398\n",
      "Epoch 29/48\n",
      "16/16 [==============================] - 0s 12ms/step - loss: 1069977344.0000 - mean_absolute_percentage_error: 12.8436 - val_loss: 1891874560.0000 - val_mean_absolute_percentage_error: 14.1474\n",
      "Epoch 30/48\n",
      "16/16 [==============================] - 0s 11ms/step - loss: 1036564544.0000 - mean_absolute_percentage_error: 12.9152 - val_loss: 1863926400.0000 - val_mean_absolute_percentage_error: 13.8321\n",
      "Epoch 31/48\n",
      "16/16 [==============================] - 0s 7ms/step - loss: 1029961216.0000 - mean_absolute_percentage_error: 12.6300 - val_loss: 1918085760.0000 - val_mean_absolute_percentage_error: 13.9959\n",
      "Epoch 32/48\n",
      "16/16 [==============================] - 0s 7ms/step - loss: 1001665472.0000 - mean_absolute_percentage_error: 12.3469 - val_loss: 1841252224.0000 - val_mean_absolute_percentage_error: 13.7960\n",
      "Epoch 33/48\n",
      "16/16 [==============================] - 0s 6ms/step - loss: 997684608.0000 - mean_absolute_percentage_error: 12.3973 - val_loss: 1934572544.0000 - val_mean_absolute_percentage_error: 14.0249\n",
      "Epoch 34/48\n",
      "16/16 [==============================] - 0s 7ms/step - loss: 984904768.0000 - mean_absolute_percentage_error: 12.3404 - val_loss: 1832742400.0000 - val_mean_absolute_percentage_error: 13.4446\n",
      "Epoch 35/48\n",
      "16/16 [==============================] - 0s 7ms/step - loss: 1030735616.0000 - mean_absolute_percentage_error: 12.3256 - val_loss: 1915140352.0000 - val_mean_absolute_percentage_error: 13.8506\n",
      "Epoch 36/48\n",
      "16/16 [==============================] - 0s 7ms/step - loss: 1007621120.0000 - mean_absolute_percentage_error: 12.1603 - val_loss: 1897978880.0000 - val_mean_absolute_percentage_error: 13.8668\n",
      "Epoch 37/48\n",
      "16/16 [==============================] - 0s 7ms/step - loss: 965589760.0000 - mean_absolute_percentage_error: 11.9658 - val_loss: 1835287808.0000 - val_mean_absolute_percentage_error: 13.3305\n",
      "Epoch 38/48\n",
      "16/16 [==============================] - 0s 7ms/step - loss: 953328064.0000 - mean_absolute_percentage_error: 12.2170 - val_loss: 1875479936.0000 - val_mean_absolute_percentage_error: 13.3658\n",
      "Epoch 39/48\n",
      "16/16 [==============================] - 0s 7ms/step - loss: 938011072.0000 - mean_absolute_percentage_error: 11.7741 - val_loss: 1845700992.0000 - val_mean_absolute_percentage_error: 13.5822\n",
      "Epoch 40/48\n",
      "16/16 [==============================] - 0s 7ms/step - loss: 948344256.0000 - mean_absolute_percentage_error: 12.1574 - val_loss: 1826306432.0000 - val_mean_absolute_percentage_error: 13.3359\n"
     ]
    },
    {
     "name": "stdout",
     "output_type": "stream",
     "text": [
      "Epoch 41/48\n",
      "16/16 [==============================] - 0s 6ms/step - loss: 954413696.0000 - mean_absolute_percentage_error: 12.1305 - val_loss: 1963329024.0000 - val_mean_absolute_percentage_error: 13.8256\n",
      "Epoch 42/48\n",
      "16/16 [==============================] - 0s 6ms/step - loss: 956110656.0000 - mean_absolute_percentage_error: 11.8248 - val_loss: 1852399360.0000 - val_mean_absolute_percentage_error: 13.5048\n",
      "Epoch 43/48\n",
      "16/16 [==============================] - 0s 6ms/step - loss: 958289216.0000 - mean_absolute_percentage_error: 11.8410 - val_loss: 1879990656.0000 - val_mean_absolute_percentage_error: 13.6638\n",
      "Epoch 44/48\n",
      "16/16 [==============================] - 0s 7ms/step - loss: 940417920.0000 - mean_absolute_percentage_error: 12.0315 - val_loss: 1805649664.0000 - val_mean_absolute_percentage_error: 13.0761\n",
      "Epoch 45/48\n",
      "16/16 [==============================] - 0s 6ms/step - loss: 944247872.0000 - mean_absolute_percentage_error: 11.9787 - val_loss: 1925107712.0000 - val_mean_absolute_percentage_error: 13.3410\n",
      "Epoch 46/48\n",
      "16/16 [==============================] - 0s 6ms/step - loss: 940053312.0000 - mean_absolute_percentage_error: 11.6987 - val_loss: 1865590656.0000 - val_mean_absolute_percentage_error: 13.2676\n",
      "Epoch 47/48\n",
      "16/16 [==============================] - 0s 7ms/step - loss: 958846400.0000 - mean_absolute_percentage_error: 11.6727 - val_loss: 1873948672.0000 - val_mean_absolute_percentage_error: 13.0950\n",
      "Epoch 48/48\n",
      "16/16 [==============================] - 0s 6ms/step - loss: 925772416.0000 - mean_absolute_percentage_error: 11.4559 - val_loss: 1955952256.0000 - val_mean_absolute_percentage_error: 13.8337\n"
     ]
    }
   ],
   "source": [
    "X = transformed_data.toarray() #this is the transformed data from the pipeline\n",
    "y = data['SalePrice'] #this is the output\n",
    "\n",
    "#Build a sequential model with at least three dense layers (you can add more layers as needed)\n",
    "#Note: you can also add this keras model to the data preprocessing pipeline but we can skip that step for now.\n",
    "ffnn_model = Sequential()\n",
    "ffnn_model.add(Dense(40, activation='relu', input_shape=(X.shape[1],))) #X.shape[1] is the number of selected features \n",
    "\n",
    "#TODO: Add the first hidden layer with a suitable number of units/neurons and the 'relu' activation function\n",
    "#TODO: Add the second hidden layer with a suitable number of units/neurons and the 'relu' activation function\n",
    "ffnn_model.add(Dense(100, activation = 'relu'))\n",
    "ffnn_model.add(Dense(100, activation = 'relu'))\n",
    "#TODO: Add the output layer\n",
    "ffnn_model.add(Dense(1))\n",
    "ffnn_model.compile(optimizer= keras.optimizers.Adam(learning_rate=0.01), #TODO: state the optimize\n",
    "                   loss= keras.losses.MeanSquaredError(),      #TODO: state the loss function\n",
    "                   metrics= [keras.metrics.MeanAbsolutePercentageError()]     #TODO: state the metric\n",
    "                  )\n",
    "\n",
    "ffnn_history = ffnn_model.fit(X, y, \n",
    "                              validation_split= 0.3, #TODO: state the validation split\n",
    "                              epochs= 48, #TODO: state the number of epochs (you may need to run the model a few times to find a suitable value)\n",
    "                              batch_size=64 , #TODO: state the number of observations to use in each batch\n",
    "                              verbose=1)\n"
   ]
  },
  {
   "cell_type": "code",
   "execution_count": 97,
   "metadata": {},
   "outputs": [
    {
     "data": {
      "image/png": "[encoded data removed]",
      "text/plain": [
       "<Figure size 432x288 with 1 Axes>"
      ]
     },
     "metadata": {
      "needs_background": "light"
     },
     "output_type": "display_data"
    }
   ],
   "source": [
    "# Visualize the training and validation loss\n",
    "plt.plot(ffnn_history.history['loss'], 'b', ffnn_history.history['val_loss'], 'orange')\n",
    "plt.xlabel('Epoch')\n",
    "plt.ylabel('Loss')\n",
    "plt.legend(['Train', 'Val'], loc='upper right')\n",
    "plt.show()"
   ]
  },
  {
   "cell_type": "markdown",
   "metadata": {},
   "source": [
    "### Let's use the neural network to make predictions!"
   ]
  },
  {
   "cell_type": "markdown",
   "metadata": {},
   "source": [
    "#### Load the test data"
   ]
  },
  {
   "cell_type": "code",
   "execution_count": 85,
   "metadata": {},
   "outputs": [],
   "source": [
    "#TODO: Load the data from `house_prices_test.csv`\n",
    "test_data_url = 'https://raw.githubusercontent.com/clarkech95/fwd-feed-neural-netwrk/master/house_prices_test.csv'\n",
    "test_data = pd.read_csv(test_data_url)\n"
   ]
  },
  {
   "cell_type": "markdown",
   "metadata": {},
   "source": [
    "#### Prepare the test data using the pipeline\n",
    "This will impute any missing values and scale/encode the fields."
   ]
  },
  {
   "cell_type": "code",
   "execution_count": 86,
   "metadata": {},
   "outputs": [
    {
     "name": "stderr",
     "output_type": "stream",
     "text": [
      "C:\\Users\\clark\\Anaconda3\\lib\\site-packages\\sklearn\\compose\\_column_transformer.py:440: FutureWarning: Given feature/column names or counts do not match the ones for the data given during fit. This will fail from v0.24.\n",
      "  FutureWarning)\n"
     ]
    }
   ],
   "source": [
    "prep_test_data = data_prep_pipeline.transform(test_data)"
   ]
  },
  {
   "cell_type": "markdown",
   "metadata": {},
   "source": [
    "#### Use the neural network to make predictions"
   ]
  },
  {
   "cell_type": "code",
   "execution_count": 87,
   "metadata": {},
   "outputs": [],
   "source": [
    "result = ffnn_model.predict( #TODO: provide the preprocessed test data (above)\n",
    "        prep_test_data)"
   ]
  },
  {
   "cell_type": "markdown",
   "metadata": {},
   "source": [
    "## Summary\n",
    "Display samples of the predictions from your model and summarize your thoughts on the model's performance, the training process and its ability to generalize with new data. What are your recommendations to improve the model in the future?"
   ]
  },
  {
   "cell_type": "code",
   "execution_count": 88,
   "metadata": {},
   "outputs": [
    {
     "name": "stdout",
     "output_type": "stream",
     "text": [
      "[[115027.11]\n",
      " [ 84085.95]\n",
      " [199257.75]\n",
      " [172810.92]\n",
      " [181332.94]\n",
      " [206765.84]\n",
      " [246815.9 ]\n",
      " [203583.22]\n",
      " [168945.58]\n",
      " [115747.22]]\n"
     ]
    }
   ],
   "source": [
    "print(result[:10])"
   ]
  },
  {
   "cell_type": "code",
   "execution_count": 89,
   "metadata": {},
   "outputs": [
    {
     "name": "stdout",
     "output_type": "stream",
     "text": [
      "                   0\n",
      "count    1459.000000\n",
      "mean   171945.765625\n",
      "std     84327.656250\n",
      "min     41396.203125\n",
      "25%    115869.054688\n",
      "50%    144842.218750\n",
      "75%    204720.289062\n",
      "max    924075.062500\n"
     ]
    }
   ],
   "source": [
    "print(pd.DataFrame(result).describe())"
   ]
  },
  {
   "cell_type": "markdown",
   "metadata": {},
   "source": [
    "I think the model performed fairly well and did a good job of generalizing new data. After a certain point the ability to improve the model tapers off and there is little increase to performance with each additional iteration. I think the best thing for imrpoving this dataset would be to add more training data to it. This would allow our already optimized model to better interpret patterns for new data."
   ]
  }
 ],
 "metadata": {
  "kernelspec": {
   "display_name": "Python 3",
   "language": "python",
   "name": "python3"
  },
  "language_info": {
   "codemirror_mode": {
    "name": "ipython",
    "version": 3
   },
   "file_extension": ".py",
   "mimetype": "text/x-python",
   "name": "python",
   "nbconvert_exporter": "python",
   "pygments_lexer": "ipython3",
   "version": "3.7.3"
  }
 },
 "nbformat": 4,
 "nbformat_minor": 2
}
